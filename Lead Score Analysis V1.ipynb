{
 "cells": [
  {
   "cell_type": "markdown",
   "id": "76abb9bf",
   "metadata": {},
   "source": [
    "# Variables Description\n",
    "\n",
    "1. **Prospect ID:** A unique ID with which the customer is identified.\n",
    "2. **Lead Number:** A lead number assigned to each lead procured.\n",
    "3. **Lead Origin:** The origin identifier with which the customer was identified to be a lead. Includes API, Landing Page Submission, etc.\n",
    "4. **Lead Source:** The source of the lead. Includes Google, Organic Search, Olark Chat, etc.\n",
    "5. **Do Not Email:** An indicator variable selected by the customer indicating whether or not they want to be emailed about the course.\n",
    "6. **Do Not Call:** An indicator variable selected by the customer indicating whether or not they want to be called about the course.\n",
    "7. **Converted:** The target variable indicating whether a lead has been successfully converted or not.\n",
    "8. **TotalVisits:** The total number of visits made by the customer on the website.\n",
    "9. **Total Time Spent on Website:** The total time spent by the customer on the website.\n",
    "10. **Page Views Per Visit:** Average number of pages on the website viewed during the visits.\n",
    "11. **Last Activity:** Last activity performed by the customer. Includes Email Opened, Olark Chat Conversation, etc.\n",
    "12. **Country:** The country of the customer.\n",
    "13. **Specialization:** The industry domain in which the customer worked before. Includes the level 'Select Specialization,' which means the customer had not selected this option while filling the form.\n",
    "14. **How did you hear about X Education:** The source from which the customer heard about X Education.\n",
    "15. **What is your current occupation:** Indicates whether the customer is a student, unemployed, or employed.\n",
    "16. **What matters most to you in choosing this course:** An option selected by the customer indicating their main motive behind doing this course.\n",
    "17. **Search:** Indicates whether the customer had seen the ad in any of the listed items.\n",
    "18. **Magazine:** Indicates whether the customer had seen the ad in any of the listed items.\n",
    "19. **Newspaper Article:** Indicates whether the customer had seen the ad in any of the listed items.\n",
    "20. **X Education Forums:** Indicates whether the customer had seen the ad in any of the listed items.\n",
    "21. **Digital Advertisement:** Indicates whether the customer had seen the ad in any of the listed items.\n",
    "22. **Through Recommendations:** Indicates whether the customer had seen the ad in any of the listed items.\n",
    "23. **Receive More Updates About Our Courses:** Indicates whether the customer chose to receive more updates about the courses.\n",
    "24. **Tags:** Tags assigned to customers indicating the current status of the lead.\n",
    "25. **Lead Quality:** Indicates the quality of lead based on the data and intuition of the employee who has been assigned to the lead.\n",
    "26. **Update me on Supply Chain Content:** Indicates whether the customer wants updates on the Supply Chain Content.\n",
    "27. **Get updates on DM Content:** Indicates whether the customer wants updates on the DM Content.\n",
    "28. **Lead Profile:** A lead level assigned to each customer based on their profile.\n",
    "29. **City:** The city of the customer.\n",
    "30. **Asymmetrique Activity Index:** An index and score assigned to each customer based on their activity and their profile.\n",
    "31. **Asymmetrique Profile Index:** An index and score assigned to each customer based on their activity and their profile.\n",
    "32. **Asymmetrique Activity Score:** An index and score assigned to each customer based on their activity and their profile.\n",
    "33. **Asymmetrique Profile Score:** An index and score assigned to each customer based on their activity and their profile.\n",
    "34. **I agree to pay the amount through cheque:** Indicates whether the customer has agreed to pay the amount through cheque or not.\n",
    "35. **A free copy of Mastering The Interview:** Indicates whether the customer wants a free copy of 'Mastering the Interview' or not.\n",
    "36. **Last Notable Activity:** The last notable activity performed by the student."
   ]
  },
  {
   "cell_type": "code",
   "execution_count": 1,
   "id": "455c1c0d",
   "metadata": {},
   "outputs": [],
   "source": [
    "import numpy as np\n",
    "import pandas as pd\n",
    "\n",
    "import matplotlib.pyplot as plt\n",
    "import seaborn as sns"
   ]
  },
  {
   "cell_type": "markdown",
   "id": "9589b566",
   "metadata": {},
   "source": [
    "## data collection "
   ]
  },
  {
   "cell_type": "code",
   "execution_count": 2,
   "id": "b967657f",
   "metadata": {},
   "outputs": [],
   "source": [
    "df=pd.read_csv('Leads.csv')"
   ]
  },
  {
   "cell_type": "code",
   "execution_count": 3,
   "id": "86686d21",
   "metadata": {},
   "outputs": [
    {
     "data": {
      "text/html": [
       "<div>\n",
       "<style scoped>\n",
       "    .dataframe tbody tr th:only-of-type {\n",
       "        vertical-align: middle;\n",
       "    }\n",
       "\n",
       "    .dataframe tbody tr th {\n",
       "        vertical-align: top;\n",
       "    }\n",
       "\n",
       "    .dataframe thead th {\n",
       "        text-align: right;\n",
       "    }\n",
       "</style>\n",
       "<table border=\"1\" class=\"dataframe\">\n",
       "  <thead>\n",
       "    <tr style=\"text-align: right;\">\n",
       "      <th></th>\n",
       "      <th>Prospect ID</th>\n",
       "      <th>Lead Number</th>\n",
       "      <th>Lead Origin</th>\n",
       "      <th>Lead Source</th>\n",
       "      <th>Do Not Email</th>\n",
       "      <th>Do Not Call</th>\n",
       "      <th>Converted</th>\n",
       "      <th>TotalVisits</th>\n",
       "      <th>Total Time Spent on Website</th>\n",
       "      <th>Page Views Per Visit</th>\n",
       "      <th>...</th>\n",
       "      <th>Get updates on DM Content</th>\n",
       "      <th>Lead Profile</th>\n",
       "      <th>City</th>\n",
       "      <th>Asymmetrique Activity Index</th>\n",
       "      <th>Asymmetrique Profile Index</th>\n",
       "      <th>Asymmetrique Activity Score</th>\n",
       "      <th>Asymmetrique Profile Score</th>\n",
       "      <th>I agree to pay the amount through cheque</th>\n",
       "      <th>A free copy of Mastering The Interview</th>\n",
       "      <th>Last Notable Activity</th>\n",
       "    </tr>\n",
       "  </thead>\n",
       "  <tbody>\n",
       "    <tr>\n",
       "      <th>0</th>\n",
       "      <td>7927b2df-8bba-4d29-b9a2-b6e0beafe620</td>\n",
       "      <td>660737</td>\n",
       "      <td>API</td>\n",
       "      <td>Olark Chat</td>\n",
       "      <td>No</td>\n",
       "      <td>No</td>\n",
       "      <td>0</td>\n",
       "      <td>0.0</td>\n",
       "      <td>0</td>\n",
       "      <td>0.0</td>\n",
       "      <td>...</td>\n",
       "      <td>No</td>\n",
       "      <td>Select</td>\n",
       "      <td>Select</td>\n",
       "      <td>02.Medium</td>\n",
       "      <td>02.Medium</td>\n",
       "      <td>15.0</td>\n",
       "      <td>15.0</td>\n",
       "      <td>No</td>\n",
       "      <td>No</td>\n",
       "      <td>Modified</td>\n",
       "    </tr>\n",
       "    <tr>\n",
       "      <th>1</th>\n",
       "      <td>2a272436-5132-4136-86fa-dcc88c88f482</td>\n",
       "      <td>660728</td>\n",
       "      <td>API</td>\n",
       "      <td>Organic Search</td>\n",
       "      <td>No</td>\n",
       "      <td>No</td>\n",
       "      <td>0</td>\n",
       "      <td>5.0</td>\n",
       "      <td>674</td>\n",
       "      <td>2.5</td>\n",
       "      <td>...</td>\n",
       "      <td>No</td>\n",
       "      <td>Select</td>\n",
       "      <td>Select</td>\n",
       "      <td>02.Medium</td>\n",
       "      <td>02.Medium</td>\n",
       "      <td>15.0</td>\n",
       "      <td>15.0</td>\n",
       "      <td>No</td>\n",
       "      <td>No</td>\n",
       "      <td>Email Opened</td>\n",
       "    </tr>\n",
       "    <tr>\n",
       "      <th>2</th>\n",
       "      <td>8cc8c611-a219-4f35-ad23-fdfd2656bd8a</td>\n",
       "      <td>660727</td>\n",
       "      <td>Landing Page Submission</td>\n",
       "      <td>Direct Traffic</td>\n",
       "      <td>No</td>\n",
       "      <td>No</td>\n",
       "      <td>1</td>\n",
       "      <td>2.0</td>\n",
       "      <td>1532</td>\n",
       "      <td>2.0</td>\n",
       "      <td>...</td>\n",
       "      <td>No</td>\n",
       "      <td>Potential Lead</td>\n",
       "      <td>Mumbai</td>\n",
       "      <td>02.Medium</td>\n",
       "      <td>01.High</td>\n",
       "      <td>14.0</td>\n",
       "      <td>20.0</td>\n",
       "      <td>No</td>\n",
       "      <td>Yes</td>\n",
       "      <td>Email Opened</td>\n",
       "    </tr>\n",
       "    <tr>\n",
       "      <th>3</th>\n",
       "      <td>0cc2df48-7cf4-4e39-9de9-19797f9b38cc</td>\n",
       "      <td>660719</td>\n",
       "      <td>Landing Page Submission</td>\n",
       "      <td>Direct Traffic</td>\n",
       "      <td>No</td>\n",
       "      <td>No</td>\n",
       "      <td>0</td>\n",
       "      <td>1.0</td>\n",
       "      <td>305</td>\n",
       "      <td>1.0</td>\n",
       "      <td>...</td>\n",
       "      <td>No</td>\n",
       "      <td>Select</td>\n",
       "      <td>Mumbai</td>\n",
       "      <td>02.Medium</td>\n",
       "      <td>01.High</td>\n",
       "      <td>13.0</td>\n",
       "      <td>17.0</td>\n",
       "      <td>No</td>\n",
       "      <td>No</td>\n",
       "      <td>Modified</td>\n",
       "    </tr>\n",
       "    <tr>\n",
       "      <th>4</th>\n",
       "      <td>3256f628-e534-4826-9d63-4a8b88782852</td>\n",
       "      <td>660681</td>\n",
       "      <td>Landing Page Submission</td>\n",
       "      <td>Google</td>\n",
       "      <td>No</td>\n",
       "      <td>No</td>\n",
       "      <td>1</td>\n",
       "      <td>2.0</td>\n",
       "      <td>1428</td>\n",
       "      <td>1.0</td>\n",
       "      <td>...</td>\n",
       "      <td>No</td>\n",
       "      <td>Select</td>\n",
       "      <td>Mumbai</td>\n",
       "      <td>02.Medium</td>\n",
       "      <td>01.High</td>\n",
       "      <td>15.0</td>\n",
       "      <td>18.0</td>\n",
       "      <td>No</td>\n",
       "      <td>No</td>\n",
       "      <td>Modified</td>\n",
       "    </tr>\n",
       "  </tbody>\n",
       "</table>\n",
       "<p>5 rows × 37 columns</p>\n",
       "</div>"
      ],
      "text/plain": [
       "                            Prospect ID  Lead Number              Lead Origin  \\\n",
       "0  7927b2df-8bba-4d29-b9a2-b6e0beafe620       660737                      API   \n",
       "1  2a272436-5132-4136-86fa-dcc88c88f482       660728                      API   \n",
       "2  8cc8c611-a219-4f35-ad23-fdfd2656bd8a       660727  Landing Page Submission   \n",
       "3  0cc2df48-7cf4-4e39-9de9-19797f9b38cc       660719  Landing Page Submission   \n",
       "4  3256f628-e534-4826-9d63-4a8b88782852       660681  Landing Page Submission   \n",
       "\n",
       "      Lead Source Do Not Email Do Not Call  Converted  TotalVisits  \\\n",
       "0      Olark Chat           No          No          0          0.0   \n",
       "1  Organic Search           No          No          0          5.0   \n",
       "2  Direct Traffic           No          No          1          2.0   \n",
       "3  Direct Traffic           No          No          0          1.0   \n",
       "4          Google           No          No          1          2.0   \n",
       "\n",
       "   Total Time Spent on Website  Page Views Per Visit  ...  \\\n",
       "0                            0                   0.0  ...   \n",
       "1                          674                   2.5  ...   \n",
       "2                         1532                   2.0  ...   \n",
       "3                          305                   1.0  ...   \n",
       "4                         1428                   1.0  ...   \n",
       "\n",
       "  Get updates on DM Content    Lead Profile    City  \\\n",
       "0                        No          Select  Select   \n",
       "1                        No          Select  Select   \n",
       "2                        No  Potential Lead  Mumbai   \n",
       "3                        No          Select  Mumbai   \n",
       "4                        No          Select  Mumbai   \n",
       "\n",
       "  Asymmetrique Activity Index Asymmetrique Profile Index  \\\n",
       "0                   02.Medium                  02.Medium   \n",
       "1                   02.Medium                  02.Medium   \n",
       "2                   02.Medium                    01.High   \n",
       "3                   02.Medium                    01.High   \n",
       "4                   02.Medium                    01.High   \n",
       "\n",
       "  Asymmetrique Activity Score Asymmetrique Profile Score  \\\n",
       "0                        15.0                       15.0   \n",
       "1                        15.0                       15.0   \n",
       "2                        14.0                       20.0   \n",
       "3                        13.0                       17.0   \n",
       "4                        15.0                       18.0   \n",
       "\n",
       "  I agree to pay the amount through cheque  \\\n",
       "0                                       No   \n",
       "1                                       No   \n",
       "2                                       No   \n",
       "3                                       No   \n",
       "4                                       No   \n",
       "\n",
       "  A free copy of Mastering The Interview Last Notable Activity  \n",
       "0                                     No              Modified  \n",
       "1                                     No          Email Opened  \n",
       "2                                    Yes          Email Opened  \n",
       "3                                     No              Modified  \n",
       "4                                     No              Modified  \n",
       "\n",
       "[5 rows x 37 columns]"
      ]
     },
     "execution_count": 3,
     "metadata": {},
     "output_type": "execute_result"
    }
   ],
   "source": [
    "df.head()"
   ]
  },
  {
   "cell_type": "code",
   "execution_count": 4,
   "id": "dc185c24",
   "metadata": {},
   "outputs": [
    {
     "name": "stdout",
     "output_type": "stream",
     "text": [
      "<class 'pandas.core.frame.DataFrame'>\n",
      "RangeIndex: 9240 entries, 0 to 9239\n",
      "Data columns (total 37 columns):\n",
      " #   Column                                         Non-Null Count  Dtype  \n",
      "---  ------                                         --------------  -----  \n",
      " 0   Prospect ID                                    9240 non-null   object \n",
      " 1   Lead Number                                    9240 non-null   int64  \n",
      " 2   Lead Origin                                    9240 non-null   object \n",
      " 3   Lead Source                                    9204 non-null   object \n",
      " 4   Do Not Email                                   9240 non-null   object \n",
      " 5   Do Not Call                                    9240 non-null   object \n",
      " 6   Converted                                      9240 non-null   int64  \n",
      " 7   TotalVisits                                    9103 non-null   float64\n",
      " 8   Total Time Spent on Website                    9240 non-null   int64  \n",
      " 9   Page Views Per Visit                           9103 non-null   float64\n",
      " 10  Last Activity                                  9137 non-null   object \n",
      " 11  Country                                        6779 non-null   object \n",
      " 12  Specialization                                 7802 non-null   object \n",
      " 13  How did you hear about X Education             7033 non-null   object \n",
      " 14  What is your current occupation                6550 non-null   object \n",
      " 15  What matters most to you in choosing a course  6531 non-null   object \n",
      " 16  Search                                         9240 non-null   object \n",
      " 17  Magazine                                       9240 non-null   object \n",
      " 18  Newspaper Article                              9240 non-null   object \n",
      " 19  X Education Forums                             9240 non-null   object \n",
      " 20  Newspaper                                      9240 non-null   object \n",
      " 21  Digital Advertisement                          9240 non-null   object \n",
      " 22  Through Recommendations                        9240 non-null   object \n",
      " 23  Receive More Updates About Our Courses         9240 non-null   object \n",
      " 24  Tags                                           5887 non-null   object \n",
      " 25  Lead Quality                                   4473 non-null   object \n",
      " 26  Update me on Supply Chain Content              9240 non-null   object \n",
      " 27  Get updates on DM Content                      9240 non-null   object \n",
      " 28  Lead Profile                                   6531 non-null   object \n",
      " 29  City                                           7820 non-null   object \n",
      " 30  Asymmetrique Activity Index                    5022 non-null   object \n",
      " 31  Asymmetrique Profile Index                     5022 non-null   object \n",
      " 32  Asymmetrique Activity Score                    5022 non-null   float64\n",
      " 33  Asymmetrique Profile Score                     5022 non-null   float64\n",
      " 34  I agree to pay the amount through cheque       9240 non-null   object \n",
      " 35  A free copy of Mastering The Interview         9240 non-null   object \n",
      " 36  Last Notable Activity                          9240 non-null   object \n",
      "dtypes: float64(4), int64(3), object(30)\n",
      "memory usage: 2.6+ MB\n"
     ]
    }
   ],
   "source": [
    "df.info()"
   ]
  },
  {
   "cell_type": "code",
   "execution_count": 5,
   "id": "65531cc7",
   "metadata": {},
   "outputs": [
    {
     "data": {
      "text/html": [
       "<div>\n",
       "<style scoped>\n",
       "    .dataframe tbody tr th:only-of-type {\n",
       "        vertical-align: middle;\n",
       "    }\n",
       "\n",
       "    .dataframe tbody tr th {\n",
       "        vertical-align: top;\n",
       "    }\n",
       "\n",
       "    .dataframe thead th {\n",
       "        text-align: right;\n",
       "    }\n",
       "</style>\n",
       "<table border=\"1\" class=\"dataframe\">\n",
       "  <thead>\n",
       "    <tr style=\"text-align: right;\">\n",
       "      <th></th>\n",
       "      <th>Prospect ID</th>\n",
       "      <th>Lead Number</th>\n",
       "      <th>Lead Origin</th>\n",
       "      <th>Lead Source</th>\n",
       "      <th>Do Not Email</th>\n",
       "      <th>Do Not Call</th>\n",
       "      <th>Converted</th>\n",
       "      <th>TotalVisits</th>\n",
       "      <th>Total Time Spent on Website</th>\n",
       "      <th>Page Views Per Visit</th>\n",
       "      <th>...</th>\n",
       "      <th>Get updates on DM Content</th>\n",
       "      <th>Lead Profile</th>\n",
       "      <th>City</th>\n",
       "      <th>Asymmetrique Activity Index</th>\n",
       "      <th>Asymmetrique Profile Index</th>\n",
       "      <th>Asymmetrique Activity Score</th>\n",
       "      <th>Asymmetrique Profile Score</th>\n",
       "      <th>I agree to pay the amount through cheque</th>\n",
       "      <th>A free copy of Mastering The Interview</th>\n",
       "      <th>Last Notable Activity</th>\n",
       "    </tr>\n",
       "  </thead>\n",
       "  <tbody>\n",
       "    <tr>\n",
       "      <th>count</th>\n",
       "      <td>9240</td>\n",
       "      <td>9240.000000</td>\n",
       "      <td>9240</td>\n",
       "      <td>9204</td>\n",
       "      <td>9240</td>\n",
       "      <td>9240</td>\n",
       "      <td>9240.000000</td>\n",
       "      <td>9103.000000</td>\n",
       "      <td>9240.000000</td>\n",
       "      <td>9103.000000</td>\n",
       "      <td>...</td>\n",
       "      <td>9240</td>\n",
       "      <td>6531</td>\n",
       "      <td>7820</td>\n",
       "      <td>5022</td>\n",
       "      <td>5022</td>\n",
       "      <td>5022.000000</td>\n",
       "      <td>5022.000000</td>\n",
       "      <td>9240</td>\n",
       "      <td>9240</td>\n",
       "      <td>9240</td>\n",
       "    </tr>\n",
       "    <tr>\n",
       "      <th>unique</th>\n",
       "      <td>9240</td>\n",
       "      <td>NaN</td>\n",
       "      <td>5</td>\n",
       "      <td>21</td>\n",
       "      <td>2</td>\n",
       "      <td>2</td>\n",
       "      <td>NaN</td>\n",
       "      <td>NaN</td>\n",
       "      <td>NaN</td>\n",
       "      <td>NaN</td>\n",
       "      <td>...</td>\n",
       "      <td>1</td>\n",
       "      <td>6</td>\n",
       "      <td>7</td>\n",
       "      <td>3</td>\n",
       "      <td>3</td>\n",
       "      <td>NaN</td>\n",
       "      <td>NaN</td>\n",
       "      <td>1</td>\n",
       "      <td>2</td>\n",
       "      <td>16</td>\n",
       "    </tr>\n",
       "    <tr>\n",
       "      <th>top</th>\n",
       "      <td>7927b2df-8bba-4d29-b9a2-b6e0beafe620</td>\n",
       "      <td>NaN</td>\n",
       "      <td>Landing Page Submission</td>\n",
       "      <td>Google</td>\n",
       "      <td>No</td>\n",
       "      <td>No</td>\n",
       "      <td>NaN</td>\n",
       "      <td>NaN</td>\n",
       "      <td>NaN</td>\n",
       "      <td>NaN</td>\n",
       "      <td>...</td>\n",
       "      <td>No</td>\n",
       "      <td>Select</td>\n",
       "      <td>Mumbai</td>\n",
       "      <td>02.Medium</td>\n",
       "      <td>02.Medium</td>\n",
       "      <td>NaN</td>\n",
       "      <td>NaN</td>\n",
       "      <td>No</td>\n",
       "      <td>No</td>\n",
       "      <td>Modified</td>\n",
       "    </tr>\n",
       "    <tr>\n",
       "      <th>freq</th>\n",
       "      <td>1</td>\n",
       "      <td>NaN</td>\n",
       "      <td>4886</td>\n",
       "      <td>2868</td>\n",
       "      <td>8506</td>\n",
       "      <td>9238</td>\n",
       "      <td>NaN</td>\n",
       "      <td>NaN</td>\n",
       "      <td>NaN</td>\n",
       "      <td>NaN</td>\n",
       "      <td>...</td>\n",
       "      <td>9240</td>\n",
       "      <td>4146</td>\n",
       "      <td>3222</td>\n",
       "      <td>3839</td>\n",
       "      <td>2788</td>\n",
       "      <td>NaN</td>\n",
       "      <td>NaN</td>\n",
       "      <td>9240</td>\n",
       "      <td>6352</td>\n",
       "      <td>3407</td>\n",
       "    </tr>\n",
       "    <tr>\n",
       "      <th>mean</th>\n",
       "      <td>NaN</td>\n",
       "      <td>617188.435606</td>\n",
       "      <td>NaN</td>\n",
       "      <td>NaN</td>\n",
       "      <td>NaN</td>\n",
       "      <td>NaN</td>\n",
       "      <td>0.385390</td>\n",
       "      <td>3.445238</td>\n",
       "      <td>487.698268</td>\n",
       "      <td>2.362820</td>\n",
       "      <td>...</td>\n",
       "      <td>NaN</td>\n",
       "      <td>NaN</td>\n",
       "      <td>NaN</td>\n",
       "      <td>NaN</td>\n",
       "      <td>NaN</td>\n",
       "      <td>14.306252</td>\n",
       "      <td>16.344883</td>\n",
       "      <td>NaN</td>\n",
       "      <td>NaN</td>\n",
       "      <td>NaN</td>\n",
       "    </tr>\n",
       "    <tr>\n",
       "      <th>std</th>\n",
       "      <td>NaN</td>\n",
       "      <td>23405.995698</td>\n",
       "      <td>NaN</td>\n",
       "      <td>NaN</td>\n",
       "      <td>NaN</td>\n",
       "      <td>NaN</td>\n",
       "      <td>0.486714</td>\n",
       "      <td>4.854853</td>\n",
       "      <td>548.021466</td>\n",
       "      <td>2.161418</td>\n",
       "      <td>...</td>\n",
       "      <td>NaN</td>\n",
       "      <td>NaN</td>\n",
       "      <td>NaN</td>\n",
       "      <td>NaN</td>\n",
       "      <td>NaN</td>\n",
       "      <td>1.386694</td>\n",
       "      <td>1.811395</td>\n",
       "      <td>NaN</td>\n",
       "      <td>NaN</td>\n",
       "      <td>NaN</td>\n",
       "    </tr>\n",
       "    <tr>\n",
       "      <th>min</th>\n",
       "      <td>NaN</td>\n",
       "      <td>579533.000000</td>\n",
       "      <td>NaN</td>\n",
       "      <td>NaN</td>\n",
       "      <td>NaN</td>\n",
       "      <td>NaN</td>\n",
       "      <td>0.000000</td>\n",
       "      <td>0.000000</td>\n",
       "      <td>0.000000</td>\n",
       "      <td>0.000000</td>\n",
       "      <td>...</td>\n",
       "      <td>NaN</td>\n",
       "      <td>NaN</td>\n",
       "      <td>NaN</td>\n",
       "      <td>NaN</td>\n",
       "      <td>NaN</td>\n",
       "      <td>7.000000</td>\n",
       "      <td>11.000000</td>\n",
       "      <td>NaN</td>\n",
       "      <td>NaN</td>\n",
       "      <td>NaN</td>\n",
       "    </tr>\n",
       "    <tr>\n",
       "      <th>25%</th>\n",
       "      <td>NaN</td>\n",
       "      <td>596484.500000</td>\n",
       "      <td>NaN</td>\n",
       "      <td>NaN</td>\n",
       "      <td>NaN</td>\n",
       "      <td>NaN</td>\n",
       "      <td>0.000000</td>\n",
       "      <td>1.000000</td>\n",
       "      <td>12.000000</td>\n",
       "      <td>1.000000</td>\n",
       "      <td>...</td>\n",
       "      <td>NaN</td>\n",
       "      <td>NaN</td>\n",
       "      <td>NaN</td>\n",
       "      <td>NaN</td>\n",
       "      <td>NaN</td>\n",
       "      <td>14.000000</td>\n",
       "      <td>15.000000</td>\n",
       "      <td>NaN</td>\n",
       "      <td>NaN</td>\n",
       "      <td>NaN</td>\n",
       "    </tr>\n",
       "    <tr>\n",
       "      <th>50%</th>\n",
       "      <td>NaN</td>\n",
       "      <td>615479.000000</td>\n",
       "      <td>NaN</td>\n",
       "      <td>NaN</td>\n",
       "      <td>NaN</td>\n",
       "      <td>NaN</td>\n",
       "      <td>0.000000</td>\n",
       "      <td>3.000000</td>\n",
       "      <td>248.000000</td>\n",
       "      <td>2.000000</td>\n",
       "      <td>...</td>\n",
       "      <td>NaN</td>\n",
       "      <td>NaN</td>\n",
       "      <td>NaN</td>\n",
       "      <td>NaN</td>\n",
       "      <td>NaN</td>\n",
       "      <td>14.000000</td>\n",
       "      <td>16.000000</td>\n",
       "      <td>NaN</td>\n",
       "      <td>NaN</td>\n",
       "      <td>NaN</td>\n",
       "    </tr>\n",
       "    <tr>\n",
       "      <th>75%</th>\n",
       "      <td>NaN</td>\n",
       "      <td>637387.250000</td>\n",
       "      <td>NaN</td>\n",
       "      <td>NaN</td>\n",
       "      <td>NaN</td>\n",
       "      <td>NaN</td>\n",
       "      <td>1.000000</td>\n",
       "      <td>5.000000</td>\n",
       "      <td>936.000000</td>\n",
       "      <td>3.000000</td>\n",
       "      <td>...</td>\n",
       "      <td>NaN</td>\n",
       "      <td>NaN</td>\n",
       "      <td>NaN</td>\n",
       "      <td>NaN</td>\n",
       "      <td>NaN</td>\n",
       "      <td>15.000000</td>\n",
       "      <td>18.000000</td>\n",
       "      <td>NaN</td>\n",
       "      <td>NaN</td>\n",
       "      <td>NaN</td>\n",
       "    </tr>\n",
       "    <tr>\n",
       "      <th>max</th>\n",
       "      <td>NaN</td>\n",
       "      <td>660737.000000</td>\n",
       "      <td>NaN</td>\n",
       "      <td>NaN</td>\n",
       "      <td>NaN</td>\n",
       "      <td>NaN</td>\n",
       "      <td>1.000000</td>\n",
       "      <td>251.000000</td>\n",
       "      <td>2272.000000</td>\n",
       "      <td>55.000000</td>\n",
       "      <td>...</td>\n",
       "      <td>NaN</td>\n",
       "      <td>NaN</td>\n",
       "      <td>NaN</td>\n",
       "      <td>NaN</td>\n",
       "      <td>NaN</td>\n",
       "      <td>18.000000</td>\n",
       "      <td>20.000000</td>\n",
       "      <td>NaN</td>\n",
       "      <td>NaN</td>\n",
       "      <td>NaN</td>\n",
       "    </tr>\n",
       "  </tbody>\n",
       "</table>\n",
       "<p>11 rows × 37 columns</p>\n",
       "</div>"
      ],
      "text/plain": [
       "                                 Prospect ID    Lead Number  \\\n",
       "count                                   9240    9240.000000   \n",
       "unique                                  9240            NaN   \n",
       "top     7927b2df-8bba-4d29-b9a2-b6e0beafe620            NaN   \n",
       "freq                                       1            NaN   \n",
       "mean                                     NaN  617188.435606   \n",
       "std                                      NaN   23405.995698   \n",
       "min                                      NaN  579533.000000   \n",
       "25%                                      NaN  596484.500000   \n",
       "50%                                      NaN  615479.000000   \n",
       "75%                                      NaN  637387.250000   \n",
       "max                                      NaN  660737.000000   \n",
       "\n",
       "                    Lead Origin Lead Source Do Not Email Do Not Call  \\\n",
       "count                      9240        9204         9240        9240   \n",
       "unique                        5          21            2           2   \n",
       "top     Landing Page Submission      Google           No          No   \n",
       "freq                       4886        2868         8506        9238   \n",
       "mean                        NaN         NaN          NaN         NaN   \n",
       "std                         NaN         NaN          NaN         NaN   \n",
       "min                         NaN         NaN          NaN         NaN   \n",
       "25%                         NaN         NaN          NaN         NaN   \n",
       "50%                         NaN         NaN          NaN         NaN   \n",
       "75%                         NaN         NaN          NaN         NaN   \n",
       "max                         NaN         NaN          NaN         NaN   \n",
       "\n",
       "          Converted  TotalVisits  Total Time Spent on Website  \\\n",
       "count   9240.000000  9103.000000                  9240.000000   \n",
       "unique          NaN          NaN                          NaN   \n",
       "top             NaN          NaN                          NaN   \n",
       "freq            NaN          NaN                          NaN   \n",
       "mean       0.385390     3.445238                   487.698268   \n",
       "std        0.486714     4.854853                   548.021466   \n",
       "min        0.000000     0.000000                     0.000000   \n",
       "25%        0.000000     1.000000                    12.000000   \n",
       "50%        0.000000     3.000000                   248.000000   \n",
       "75%        1.000000     5.000000                   936.000000   \n",
       "max        1.000000   251.000000                  2272.000000   \n",
       "\n",
       "        Page Views Per Visit  ... Get updates on DM Content Lead Profile  \\\n",
       "count            9103.000000  ...                      9240         6531   \n",
       "unique                   NaN  ...                         1            6   \n",
       "top                      NaN  ...                        No       Select   \n",
       "freq                     NaN  ...                      9240         4146   \n",
       "mean                2.362820  ...                       NaN          NaN   \n",
       "std                 2.161418  ...                       NaN          NaN   \n",
       "min                 0.000000  ...                       NaN          NaN   \n",
       "25%                 1.000000  ...                       NaN          NaN   \n",
       "50%                 2.000000  ...                       NaN          NaN   \n",
       "75%                 3.000000  ...                       NaN          NaN   \n",
       "max                55.000000  ...                       NaN          NaN   \n",
       "\n",
       "          City Asymmetrique Activity Index Asymmetrique Profile Index  \\\n",
       "count     7820                        5022                       5022   \n",
       "unique       7                           3                          3   \n",
       "top     Mumbai                   02.Medium                  02.Medium   \n",
       "freq      3222                        3839                       2788   \n",
       "mean       NaN                         NaN                        NaN   \n",
       "std        NaN                         NaN                        NaN   \n",
       "min        NaN                         NaN                        NaN   \n",
       "25%        NaN                         NaN                        NaN   \n",
       "50%        NaN                         NaN                        NaN   \n",
       "75%        NaN                         NaN                        NaN   \n",
       "max        NaN                         NaN                        NaN   \n",
       "\n",
       "       Asymmetrique Activity Score Asymmetrique Profile Score  \\\n",
       "count                  5022.000000                5022.000000   \n",
       "unique                         NaN                        NaN   \n",
       "top                            NaN                        NaN   \n",
       "freq                           NaN                        NaN   \n",
       "mean                     14.306252                  16.344883   \n",
       "std                       1.386694                   1.811395   \n",
       "min                       7.000000                  11.000000   \n",
       "25%                      14.000000                  15.000000   \n",
       "50%                      14.000000                  16.000000   \n",
       "75%                      15.000000                  18.000000   \n",
       "max                      18.000000                  20.000000   \n",
       "\n",
       "       I agree to pay the amount through cheque  \\\n",
       "count                                      9240   \n",
       "unique                                        1   \n",
       "top                                          No   \n",
       "freq                                       9240   \n",
       "mean                                        NaN   \n",
       "std                                         NaN   \n",
       "min                                         NaN   \n",
       "25%                                         NaN   \n",
       "50%                                         NaN   \n",
       "75%                                         NaN   \n",
       "max                                         NaN   \n",
       "\n",
       "       A free copy of Mastering The Interview Last Notable Activity  \n",
       "count                                    9240                  9240  \n",
       "unique                                      2                    16  \n",
       "top                                        No              Modified  \n",
       "freq                                     6352                  3407  \n",
       "mean                                      NaN                   NaN  \n",
       "std                                       NaN                   NaN  \n",
       "min                                       NaN                   NaN  \n",
       "25%                                       NaN                   NaN  \n",
       "50%                                       NaN                   NaN  \n",
       "75%                                       NaN                   NaN  \n",
       "max                                       NaN                   NaN  \n",
       "\n",
       "[11 rows x 37 columns]"
      ]
     },
     "execution_count": 5,
     "metadata": {},
     "output_type": "execute_result"
    }
   ],
   "source": [
    "df.describe(include='all')"
   ]
  },
  {
   "cell_type": "markdown",
   "id": "a0ff1424",
   "metadata": {},
   "source": [
    "After reviewing the dataset, we found limited details, so we decided to convert the CSV file to an Excel format for better readability and a comprehensive understanding of the data distribution.\n",
    "\n",
    "### Method 1: Using Microsoft Excel\n",
    "- Open Microsoft Excel.\n",
    "- Click on \"File\" in the menu.\n",
    "- Select \"Open\" and choose the CSV file.\n",
    "- Excel will guide you through the import process. Follow the prompts and ensure to set the delimiter correctly (usually a comma for CSV).\n",
    "- Once the data is loaded, you can save the file as an Excel workbook by clicking on \"File\" and then \"Save As.\" Choose the file format as \"Excel Workbook (*.xlsx).\"\n",
    "\n",
    "### Method 2: Using Python and Pandas\n",
    "If you prefer a programming approach, you can use Python with Pandas to convert a CSV to an Excel file. Install Pandas using `pip install pandas` if you haven't already, and then use the following script:\n",
    "\n",
    "```python\n",
    "import pandas as pd\n",
    "\n",
    "# Replace 'input.csv' and 'output.xlsx' with your file names\n",
    "df = pd.read_csv('input.csv')\n",
    "df.to_excel('output.xlsx', index=False)\n"
   ]
  },
  {
   "cell_type": "markdown",
   "id": "29979258",
   "metadata": {},
   "source": [
    "### Data Cleaning"
   ]
  },
  {
   "cell_type": "code",
   "execution_count": 6,
   "id": "4c62ff20",
   "metadata": {},
   "outputs": [
    {
     "data": {
      "text/plain": [
       "Index(['Lead Source', 'TotalVisits', 'Page Views Per Visit', 'Last Activity',\n",
       "       'Country', 'Specialization', 'How did you hear about X Education',\n",
       "       'What is your current occupation',\n",
       "       'What matters most to you in choosing a course', 'Tags', 'Lead Quality',\n",
       "       'Lead Profile', 'City', 'Asymmetrique Activity Index',\n",
       "       'Asymmetrique Profile Index', 'Asymmetrique Activity Score',\n",
       "       'Asymmetrique Profile Score'],\n",
       "      dtype='object')"
      ]
     },
     "execution_count": 6,
     "metadata": {},
     "output_type": "execute_result"
    }
   ],
   "source": [
    "null_coloums=df.columns[df.isnull().any()]\n",
    "null_coloums"
   ]
  },
  {
   "cell_type": "code",
   "execution_count": 7,
   "id": "2eae02f3",
   "metadata": {},
   "outputs": [
    {
     "data": {
      "text/plain": [
       "Prospect ID                                       0.00\n",
       "Lead Number                                       0.00\n",
       "Lead Origin                                       0.00\n",
       "Lead Source                                       0.39\n",
       "Do Not Email                                      0.00\n",
       "Do Not Call                                       0.00\n",
       "Converted                                         0.00\n",
       "TotalVisits                                       1.48\n",
       "Total Time Spent on Website                       0.00\n",
       "Page Views Per Visit                              1.48\n",
       "Last Activity                                     1.11\n",
       "Country                                          26.63\n",
       "Specialization                                   15.56\n",
       "How did you hear about X Education               23.89\n",
       "What is your current occupation                  29.11\n",
       "What matters most to you in choosing a course    29.32\n",
       "Search                                            0.00\n",
       "Magazine                                          0.00\n",
       "Newspaper Article                                 0.00\n",
       "X Education Forums                                0.00\n",
       "Newspaper                                         0.00\n",
       "Digital Advertisement                             0.00\n",
       "Through Recommendations                           0.00\n",
       "Receive More Updates About Our Courses            0.00\n",
       "Tags                                             36.29\n",
       "Lead Quality                                     51.59\n",
       "Update me on Supply Chain Content                 0.00\n",
       "Get updates on DM Content                         0.00\n",
       "Lead Profile                                     29.32\n",
       "City                                             15.37\n",
       "Asymmetrique Activity Index                      45.65\n",
       "Asymmetrique Profile Index                       45.65\n",
       "Asymmetrique Activity Score                      45.65\n",
       "Asymmetrique Profile Score                       45.65\n",
       "I agree to pay the amount through cheque          0.00\n",
       "A free copy of Mastering The Interview            0.00\n",
       "Last Notable Activity                             0.00\n",
       "dtype: float64"
      ]
     },
     "execution_count": 7,
     "metadata": {},
     "output_type": "execute_result"
    }
   ],
   "source": [
    "(df.isnull().mean() * 100).round(2)"
   ]
  },
  {
   "cell_type": "code",
   "execution_count": 8,
   "id": "899b9770",
   "metadata": {},
   "outputs": [
    {
     "data": {
      "text/plain": [
       "Lead Quality                                     4767\n",
       "Asymmetrique Activity Index                      4218\n",
       "Asymmetrique Profile Score                       4218\n",
       "Asymmetrique Activity Score                      4218\n",
       "Asymmetrique Profile Index                       4218\n",
       "Tags                                             3353\n",
       "Lead Profile                                     2709\n",
       "What matters most to you in choosing a course    2709\n",
       "What is your current occupation                  2690\n",
       "Country                                          2461\n",
       "How did you hear about X Education               2207\n",
       "Specialization                                   1438\n",
       "City                                             1420\n",
       "Page Views Per Visit                              137\n",
       "TotalVisits                                       137\n",
       "Last Activity                                     103\n",
       "Lead Source                                        36\n",
       "Receive More Updates About Our Courses              0\n",
       "I agree to pay the amount through cheque            0\n",
       "Get updates on DM Content                           0\n",
       "Update me on Supply Chain Content                   0\n",
       "A free copy of Mastering The Interview              0\n",
       "Prospect ID                                         0\n",
       "Newspaper Article                                   0\n",
       "Through Recommendations                             0\n",
       "Digital Advertisement                               0\n",
       "Newspaper                                           0\n",
       "X Education Forums                                  0\n",
       "Lead Number                                         0\n",
       "Magazine                                            0\n",
       "Search                                              0\n",
       "Total Time Spent on Website                         0\n",
       "Converted                                           0\n",
       "Do Not Call                                         0\n",
       "Do Not Email                                        0\n",
       "Lead Origin                                         0\n",
       "Last Notable Activity                               0\n",
       "dtype: int64"
      ]
     },
     "execution_count": 8,
     "metadata": {},
     "output_type": "execute_result"
    }
   ],
   "source": [
    "null_counts = df.isnull().sum()\n",
    "\n",
    "# Sort the columns based on the number of null values in descending order\n",
    "sorted_null_columns = null_counts.sort_values(ascending=False)\n",
    "sorted_null_columns"
   ]
  },
  {
   "cell_type": "markdown",
   "id": "9b7452b8",
   "metadata": {},
   "source": [
    "### [Lead Quality] coloum\n",
    "- Lead Quality having 4767(51.59%) of null values "
   ]
  },
  {
   "cell_type": "code",
   "execution_count": 9,
   "id": "a9894d67",
   "metadata": {},
   "outputs": [
    {
     "data": {
      "text/plain": [
       "array(['Low in Relevance', nan, 'Might be', 'Not Sure', 'Worst',\n",
       "       'High in Relevance'], dtype=object)"
      ]
     },
     "execution_count": 9,
     "metadata": {},
     "output_type": "execute_result"
    }
   ],
   "source": [
    "df['Lead Quality'].unique()"
   ]
  },
  {
   "cell_type": "code",
   "execution_count": 10,
   "id": "f247c1bc",
   "metadata": {},
   "outputs": [
    {
     "data": {
      "text/plain": [
       "0        Low in Relevance\n",
       "1                     NaN\n",
       "2                Might be\n",
       "3                Not Sure\n",
       "4                Might be\n",
       "              ...        \n",
       "9235    High in Relevance\n",
       "9236             Might be\n",
       "9237             Not Sure\n",
       "9238                  NaN\n",
       "9239             Might be\n",
       "Name: Lead Quality, Length: 9240, dtype: object"
      ]
     },
     "execution_count": 10,
     "metadata": {},
     "output_type": "execute_result"
    }
   ],
   "source": [
    "df['Lead Quality']"
   ]
  },
  {
   "cell_type": "code",
   "execution_count": 11,
   "id": "74dd51d6",
   "metadata": {},
   "outputs": [
    {
     "data": {
      "image/png": "[encoded data removed]",
      "text/plain": [
       "<Figure size 640x480 with 1 Axes>"
      ]
     },
     "metadata": {},
     "output_type": "display_data"
    }
   ],
   "source": [
    "lead_quality_counts = df['Lead Quality'].value_counts()\n",
    "\n",
    "# Plot the bar chart\n",
    "ax = lead_quality_counts.plot.bar()\n",
    "\n",
    "# Add total count values on top of each bar\n",
    "for p in ax.patches:\n",
    "    ax.annotate(f'{p.get_height()}', (p.get_x() + p.get_width() / 2., p.get_height()),\n",
    "                ha='center', va='center', xytext=(0, 10), textcoords='offset points')\n",
    "\n",
    "plt.title('Lead Quality Distribution with Total Counts')\n",
    "plt.xlabel('Lead Quality')\n",
    "plt.ylabel('Count')\n",
    "plt.show()"
   ]
  },
  {
   "cell_type": "markdown",
   "id": "00fd9d30",
   "metadata": {},
   "source": [
    "- Upon closer examination, we've determined that filling null values with the mode or any specific value might introduce unintended skewness to the data. To address this, we recommend the creation of a new category, such as \"Unknown.\" This approach enhances transparency and ensures a more accurate representation of missing or unspecified information in our analysis."
   ]
  },
  {
   "cell_type": "code",
   "execution_count": 12,
   "id": "8560e9d4",
   "metadata": {},
   "outputs": [],
   "source": [
    "df['Lead Quality'].fillna('Unknown', inplace=True)"
   ]
  },
  {
   "cell_type": "markdown",
   "id": "26a5b1f0",
   "metadata": {},
   "source": [
    "After convert let's see the plot again"
   ]
  },
  {
   "cell_type": "code",
   "execution_count": 13,
   "id": "f643a2b4",
   "metadata": {},
   "outputs": [
    {
     "data": {
      "image/png": "[encoded data removed]",
      "text/plain": [
       "<Figure size 640x480 with 1 Axes>"
      ]
     },
     "metadata": {},
     "output_type": "display_data"
    }
   ],
   "source": [
    "lead_quality_counts = df['Lead Quality'].value_counts()\n",
    "\n",
    "# Plot the bar chart\n",
    "ax = lead_quality_counts.plot.bar()\n",
    "\n",
    "# Add total count values on top of each bar\n",
    "for p in ax.patches:\n",
    "    ax.annotate(f'{p.get_height()}', (p.get_x() + p.get_width() / 2., p.get_height()),\n",
    "                ha='center', va='center', xytext=(0, 10), textcoords='offset points')\n",
    "\n",
    "plt.title('Lead Quality Distribution with Total Counts')\n",
    "plt.xlabel('Lead Quality')\n",
    "plt.ylabel('Count')\n",
    "plt.show()"
   ]
  },
  {
   "cell_type": "markdown",
   "id": "20afa8e8",
   "metadata": {},
   "source": [
    "### [Asymmetrique Activity Index] coloum"
   ]
  },
  {
   "cell_type": "code",
   "execution_count": 14,
   "id": "4538a570",
   "metadata": {},
   "outputs": [
    {
     "data": {
      "text/plain": [
       "Asymmetrique Activity Index\n",
       "02.Medium    3839\n",
       "01.High       821\n",
       "03.Low        362\n",
       "Name: count, dtype: int64"
      ]
     },
     "execution_count": 14,
     "metadata": {},
     "output_type": "execute_result"
    }
   ],
   "source": [
    "df['Asymmetrique Activity Index'].value_counts()"
   ]
  },
  {
   "cell_type": "code",
   "execution_count": 15,
   "id": "aca4e394",
   "metadata": {},
   "outputs": [
    {
     "data": {
      "text/plain": [
       "array(['02.Medium', '01.High', '03.Low', nan], dtype=object)"
      ]
     },
     "execution_count": 15,
     "metadata": {},
     "output_type": "execute_result"
    }
   ],
   "source": [
    "df['Asymmetrique Activity Index'].unique()"
   ]
  },
  {
   "cell_type": "code",
   "execution_count": 16,
   "id": "2e66dcb4",
   "metadata": {},
   "outputs": [
    {
     "data": {
      "image/png": "[encoded data removed]",
      "text/plain": [
       "<Figure size 640x480 with 1 Axes>"
      ]
     },
     "metadata": {},
     "output_type": "display_data"
    }
   ],
   "source": [
    "lead_quality_counts = df['Asymmetrique Activity Index'].value_counts()\n",
    "\n",
    "# Plot the bar chart\n",
    "ax = lead_quality_counts.plot.bar()\n",
    "\n",
    "# Add total count values on top of each bar\n",
    "for p in ax.patches:\n",
    "    ax.annotate(f'{p.get_height()}', (p.get_x() + p.get_width() / 2., p.get_height()),\n",
    "                ha='center', va='center', xytext=(0, 10), textcoords='offset points')\n",
    "\n",
    "plt.title('Asymmetrique Activity Index Distribution with Total Counts')\n",
    "plt.xlabel('Asymmetrique Activity Index')\n",
    "plt.ylabel('Count')\n",
    "plt.show()"
   ]
  },
  {
   "cell_type": "code",
   "execution_count": 17,
   "id": "96068a41",
   "metadata": {},
   "outputs": [],
   "source": [
    "df['Asymmetrique Activity Index'].fillna('Unknown', inplace=True)"
   ]
  },
  {
   "cell_type": "code",
   "execution_count": 18,
   "id": "f4697b1e",
   "metadata": {},
   "outputs": [
    {
     "data": {
      "image/png": "[encoded data removed]",
      "text/plain": [
       "<Figure size 640x480 with 1 Axes>"
      ]
     },
     "metadata": {},
     "output_type": "display_data"
    }
   ],
   "source": [
    "lead_quality_counts = df['Asymmetrique Activity Index'].value_counts()\n",
    "\n",
    "# Plot the bar chart\n",
    "ax = lead_quality_counts.plot.bar()\n",
    "\n",
    "# Add total count values on top of each bar\n",
    "for p in ax.patches:\n",
    "    ax.annotate(f'{p.get_height()}', (p.get_x() + p.get_width() / 2., p.get_height()),\n",
    "                ha='center', va='center', xytext=(0, 10), textcoords='offset points')\n",
    "\n",
    "plt.title('Asymmetrique Activity Index Distribution with Total Counts')\n",
    "plt.xlabel('Asymmetrique Activity Index')\n",
    "plt.ylabel('Count')\n",
    "plt.show()"
   ]
  },
  {
   "cell_type": "markdown",
   "id": "f8a3df33",
   "metadata": {},
   "source": [
    "### ['Asymmetrique Profile Score'] coloum"
   ]
  },
  {
   "cell_type": "code",
   "execution_count": 19,
   "id": "85382916",
   "metadata": {},
   "outputs": [
    {
     "data": {
      "text/plain": [
       "array([15., 20., 17., 18., 14., 16., 13., 19., 12., nan, 11.])"
      ]
     },
     "execution_count": 19,
     "metadata": {},
     "output_type": "execute_result"
    }
   ],
   "source": [
    "df['Asymmetrique Profile Score'].unique()"
   ]
  },
  {
   "cell_type": "code",
   "execution_count": 20,
   "id": "132c44b8",
   "metadata": {},
   "outputs": [
    {
     "data": {
      "image/png": "[encoded data removed]",
      "text/plain": [
       "<Figure size 640x480 with 1 Axes>"
      ]
     },
     "metadata": {},
     "output_type": "display_data"
    }
   ],
   "source": [
    "plt.hist(df['Asymmetrique Profile Score'], bins=10, edgecolor='black')\n",
    "plt.title('Histogram for Asymmetrique Profile Score')\n",
    "plt.xlabel('Values')\n",
    "plt.ylabel('Frequency')\n",
    "plt.show()"
   ]
  },
  {
   "cell_type": "code",
   "execution_count": 21,
   "id": "c51abdfd",
   "metadata": {},
   "outputs": [],
   "source": [
    "df['Asymmetrique Profile Score'].fillna(0, inplace=True)"
   ]
  },
  {
   "cell_type": "code",
   "execution_count": 22,
   "id": "87643b01",
   "metadata": {},
   "outputs": [],
   "source": [
    "df['Asymmetrique Profile Score'] = df['Asymmetrique Profile Score'].astype(int)"
   ]
  },
  {
   "cell_type": "code",
   "execution_count": 23,
   "id": "3aec2f4e",
   "metadata": {},
   "outputs": [
    {
     "data": {
      "image/png": "[encoded data removed]",
      "text/plain": [
       "<Figure size 640x480 with 1 Axes>"
      ]
     },
     "metadata": {},
     "output_type": "display_data"
    }
   ],
   "source": [
    "plt.hist(df['Asymmetrique Profile Score'], bins=10, edgecolor='black')\n",
    "plt.title('Histogram for Asymmetrique Profile Score')\n",
    "plt.xlabel('Values')\n",
    "plt.ylabel('Frequency')\n",
    "plt.show()"
   ]
  },
  {
   "cell_type": "code",
   "execution_count": 24,
   "id": "57264da9",
   "metadata": {},
   "outputs": [
    {
     "data": {
      "text/plain": [
       "array([15., 14., 13., 17., 16., 11., 12., 10.,  9.,  8., 18., nan,  7.])"
      ]
     },
     "execution_count": 24,
     "metadata": {},
     "output_type": "execute_result"
    }
   ],
   "source": [
    "df['Asymmetrique Activity Score'].unique()"
   ]
  },
  {
   "cell_type": "code",
   "execution_count": 25,
   "id": "6fc2cd12",
   "metadata": {},
   "outputs": [
    {
     "data": {
      "image/png": "[encoded data removed]",
      "text/plain": [
       "<Figure size 640x480 with 1 Axes>"
      ]
     },
     "metadata": {},
     "output_type": "display_data"
    }
   ],
   "source": [
    "plt.hist(df['Asymmetrique Activity Score'], bins=10, edgecolor='black')\n",
    "plt.title('Histogram for Asymmetrique Profile Score')\n",
    "plt.xlabel('Values')\n",
    "plt.ylabel('Frequency')\n",
    "plt.show()"
   ]
  },
  {
   "cell_type": "code",
   "execution_count": 26,
   "id": "10aff7cd",
   "metadata": {},
   "outputs": [],
   "source": [
    "df['Asymmetrique Activity Score'].fillna(0, inplace=True)"
   ]
  },
  {
   "cell_type": "code",
   "execution_count": 27,
   "id": "f2876b00",
   "metadata": {},
   "outputs": [],
   "source": [
    "df['Asymmetrique Profile Score'] = df['Asymmetrique Profile Score'].astype(int)"
   ]
  },
  {
   "cell_type": "code",
   "execution_count": 28,
   "id": "9253075c",
   "metadata": {},
   "outputs": [
    {
     "data": {
      "text/plain": [
       "array(['02.Medium', '01.High', '03.Low', nan], dtype=object)"
      ]
     },
     "execution_count": 28,
     "metadata": {},
     "output_type": "execute_result"
    }
   ],
   "source": [
    "df['Asymmetrique Profile Index'].unique()"
   ]
  },
  {
   "cell_type": "code",
   "execution_count": 29,
   "id": "c57c8c45",
   "metadata": {},
   "outputs": [
    {
     "data": {
      "text/plain": [
       "Asymmetrique Profile Index\n",
       "02.Medium    2788\n",
       "01.High      2203\n",
       "03.Low         31\n",
       "Name: count, dtype: int64"
      ]
     },
     "execution_count": 29,
     "metadata": {},
     "output_type": "execute_result"
    }
   ],
   "source": [
    "df['Asymmetrique Profile Index'].value_counts()"
   ]
  },
  {
   "cell_type": "code",
   "execution_count": 30,
   "id": "e57073fa",
   "metadata": {},
   "outputs": [],
   "source": [
    "df['Asymmetrique Profile Index'].fillna('Unknown', inplace=True)"
   ]
  },
  {
   "cell_type": "code",
   "execution_count": 31,
   "id": "e3e9e20b",
   "metadata": {},
   "outputs": [
    {
     "data": {
      "image/png": "[encoded data removed]",
      "text/plain": [
       "<Figure size 640x480 with 1 Axes>"
      ]
     },
     "metadata": {},
     "output_type": "display_data"
    }
   ],
   "source": [
    "lead_quality_counts = df['Asymmetrique Profile Index'].value_counts()\n",
    "\n",
    "# Plot the bar chart\n",
    "ax = lead_quality_counts.plot.bar()\n",
    "\n",
    "# Add total count values on top of each bar\n",
    "for p in ax.patches:\n",
    "    ax.annotate(f'{p.get_height()}', (p.get_x() + p.get_width() / 2., p.get_height()),\n",
    "                ha='center', va='center', xytext=(0, 10), textcoords='offset points')\n",
    "\n",
    "plt.title('Asymmetrique Profile Index Distribution with Total Counts')\n",
    "plt.xlabel('Asymmetrique Profile Index')\n",
    "plt.ylabel('Count')\n",
    "plt.show()"
   ]
  },
  {
   "cell_type": "code",
   "execution_count": 32,
   "id": "9c6a1efc",
   "metadata": {},
   "outputs": [
    {
     "data": {
      "text/plain": [
       "Tags\n",
       "Will revert after reading the email                  2072\n",
       "Ringing                                              1203\n",
       "Interested in other courses                           513\n",
       "Already a student                                     465\n",
       "Closed by Horizzon                                    358\n",
       "switched off                                          240\n",
       "Busy                                                  186\n",
       "Lost to EINS                                          175\n",
       "Not doing further education                           145\n",
       "Interested  in full time MBA                          117\n",
       "Graduation in progress                                111\n",
       "invalid number                                         83\n",
       "Diploma holder (Not Eligible)                          63\n",
       "wrong number given                                     47\n",
       "opp hangup                                             33\n",
       "number not provided                                    27\n",
       "in touch with EINS                                     12\n",
       "Lost to Others                                          7\n",
       "Still Thinking                                          6\n",
       "Want to take admission but has financial problems       6\n",
       "In confusion whether part time or DLP                   5\n",
       "Interested in Next batch                                5\n",
       "Lateral student                                         3\n",
       "Shall take in the next coming month                     2\n",
       "University not recognized                               2\n",
       "Recognition issue (DEC approval)                        1\n",
       "Name: count, dtype: int64"
      ]
     },
     "execution_count": 32,
     "metadata": {},
     "output_type": "execute_result"
    }
   ],
   "source": [
    "df['Tags'].value_counts()"
   ]
  },
  {
   "cell_type": "code",
   "execution_count": 33,
   "id": "9ee92a77",
   "metadata": {},
   "outputs": [],
   "source": [
    "df['Tags'].fillna('Unknown', inplace=True)"
   ]
  },
  {
   "cell_type": "code",
   "execution_count": 34,
   "id": "28f884c5",
   "metadata": {},
   "outputs": [
    {
     "data": {
      "text/plain": [
       "Lead Profile\n",
       "Select                         4146\n",
       "Potential Lead                 1613\n",
       "Other Leads                     487\n",
       "Student of SomeSchool           241\n",
       "Lateral Student                  24\n",
       "Dual Specialization Student      20\n",
       "Name: count, dtype: int64"
      ]
     },
     "execution_count": 34,
     "metadata": {},
     "output_type": "execute_result"
    }
   ],
   "source": [
    "df['Lead Profile'].value_counts()"
   ]
  },
  {
   "cell_type": "code",
   "execution_count": 35,
   "id": "f7e25acd",
   "metadata": {},
   "outputs": [
    {
     "data": {
      "text/plain": [
       "array(['Select', 'Potential Lead', nan, 'Other Leads', 'Lateral Student',\n",
       "       'Dual Specialization Student', 'Student of SomeSchool'],\n",
       "      dtype=object)"
      ]
     },
     "execution_count": 35,
     "metadata": {},
     "output_type": "execute_result"
    }
   ],
   "source": [
    "df['Lead Profile'].unique()"
   ]
  },
  {
   "cell_type": "code",
   "execution_count": 36,
   "id": "922bd6f0",
   "metadata": {},
   "outputs": [],
   "source": [
    "df['Lead Profile'].fillna('Unknown', inplace=True)"
   ]
  },
  {
   "cell_type": "code",
   "execution_count": 37,
   "id": "7102a9a8",
   "metadata": {},
   "outputs": [
    {
     "data": {
      "text/plain": [
       "array(['Better Career Prospects', nan, 'Flexibility & Convenience',\n",
       "       'Other'], dtype=object)"
      ]
     },
     "execution_count": 37,
     "metadata": {},
     "output_type": "execute_result"
    }
   ],
   "source": [
    "df['What matters most to you in choosing a course'].unique()"
   ]
  },
  {
   "cell_type": "code",
   "execution_count": 38,
   "id": "c5db2380",
   "metadata": {},
   "outputs": [
    {
     "data": {
      "text/plain": [
       "What matters most to you in choosing a course\n",
       "Better Career Prospects      6528\n",
       "Flexibility & Convenience       2\n",
       "Other                           1\n",
       "Name: count, dtype: int64"
      ]
     },
     "execution_count": 38,
     "metadata": {},
     "output_type": "execute_result"
    }
   ],
   "source": [
    "df['What matters most to you in choosing a course'].value_counts()"
   ]
  },
  {
   "cell_type": "markdown",
   "id": "96d08aa1",
   "metadata": {},
   "source": [
    "- In this dataset, a compelling trend emerges: a staggering 99% of individuals express a shared aspiration for 'better career prospects' as their driving force behind enrolling in courses.\n",
    "- This overwhelming consensus underscores the overarching pursuit of career enhancement among the majority of participants. \n",
    "- Therefore, we can confidently replace the null values in relevant fields with 'Better Career Prospects' to align with this prevalent motivation."
   ]
  },
  {
   "cell_type": "code",
   "execution_count": 39,
   "id": "3977afbb",
   "metadata": {},
   "outputs": [],
   "source": [
    "df['What matters most to you in choosing a course'].fillna('Better Career Prospects', inplace=True)"
   ]
  },
  {
   "cell_type": "code",
   "execution_count": 40,
   "id": "048924e0",
   "metadata": {},
   "outputs": [
    {
     "data": {
      "text/plain": [
       "array(['Unemployed', 'Student', nan, 'Working Professional',\n",
       "       'Businessman', 'Other', 'Housewife'], dtype=object)"
      ]
     },
     "execution_count": 40,
     "metadata": {},
     "output_type": "execute_result"
    }
   ],
   "source": [
    "df['What is your current occupation'].unique()"
   ]
  },
  {
   "cell_type": "code",
   "execution_count": 41,
   "id": "d6c44c26",
   "metadata": {},
   "outputs": [
    {
     "data": {
      "image/png": "[encoded data removed]",
      "text/plain": [
       "<Figure size 800x500 with 1 Axes>"
      ]
     },
     "metadata": {},
     "output_type": "display_data"
    }
   ],
   "source": [
    "plt.figure(figsize=(8, 5))\n",
    "sns.countplot(df['What is your current occupation'])\n",
    "plt.title(\"Count Plot for 'What is your current occupation'\")\n",
    "plt.xlabel('What is your current occupation')\n",
    "plt.ylabel('Count')\n",
    "plt.show()\n"
   ]
  },
  {
   "cell_type": "markdown",
   "id": "f17c1661",
   "metadata": {},
   "source": [
    "- In light of the prevalent trend observed, wherein a significant number of individuals choose to enroll in courses during periods of unemployment, we find a coherent alignment with insights from the plot. \n",
    "- This reinforces the notion that a substantial portion of participants tends to pursue courses precisely during phases of unemployment.\n",
    "- Consequently, we can judiciously replace null values in relevant fields with the category 'Unemployed' to accurately capture this prevailing pattern."
   ]
  },
  {
   "cell_type": "code",
   "execution_count": 42,
   "id": "7e67ed20",
   "metadata": {},
   "outputs": [],
   "source": [
    "df['What is your current occupation'].fillna('Unemployed', inplace=True)"
   ]
  },
  {
   "cell_type": "code",
   "execution_count": 43,
   "id": "8b727d86",
   "metadata": {},
   "outputs": [
    {
     "data": {
      "text/plain": [
       "array([nan, 'India', 'Russia', 'Kuwait', 'Oman', 'United Arab Emirates',\n",
       "       'United States', 'Australia', 'United Kingdom', 'Bahrain', 'Ghana',\n",
       "       'Singapore', 'Qatar', 'Saudi Arabia', 'Belgium', 'France',\n",
       "       'Sri Lanka', 'China', 'Canada', 'Netherlands', 'Sweden', 'Nigeria',\n",
       "       'Hong Kong', 'Germany', 'Asia/Pacific Region', 'Uganda', 'Kenya',\n",
       "       'Italy', 'South Africa', 'Tanzania', 'unknown', 'Malaysia',\n",
       "       'Liberia', 'Switzerland', 'Denmark', 'Philippines', 'Bangladesh',\n",
       "       'Vietnam', 'Indonesia'], dtype=object)"
      ]
     },
     "execution_count": 43,
     "metadata": {},
     "output_type": "execute_result"
    }
   ],
   "source": [
    "df['Country'].unique()"
   ]
  },
  {
   "cell_type": "code",
   "execution_count": 44,
   "id": "8d00d459",
   "metadata": {},
   "outputs": [
    {
     "data": {
      "text/plain": [
       "Country\n",
       "India                   6492\n",
       "United States             69\n",
       "United Arab Emirates      53\n",
       "Singapore                 24\n",
       "Saudi Arabia              21\n",
       "United Kingdom            15\n",
       "Australia                 13\n",
       "Qatar                     10\n",
       "Hong Kong                  7\n",
       "Bahrain                    7\n",
       "Oman                       6\n",
       "France                     6\n",
       "unknown                    5\n",
       "South Africa               4\n",
       "Nigeria                    4\n",
       "Germany                    4\n",
       "Kuwait                     4\n",
       "Canada                     4\n",
       "Sweden                     3\n",
       "China                      2\n",
       "Asia/Pacific Region        2\n",
       "Uganda                     2\n",
       "Bangladesh                 2\n",
       "Italy                      2\n",
       "Belgium                    2\n",
       "Netherlands                2\n",
       "Ghana                      2\n",
       "Philippines                2\n",
       "Russia                     1\n",
       "Switzerland                1\n",
       "Vietnam                    1\n",
       "Denmark                    1\n",
       "Tanzania                   1\n",
       "Liberia                    1\n",
       "Malaysia                   1\n",
       "Kenya                      1\n",
       "Sri Lanka                  1\n",
       "Indonesia                  1\n",
       "Name: count, dtype: int64"
      ]
     },
     "execution_count": 44,
     "metadata": {},
     "output_type": "execute_result"
    }
   ],
   "source": [
    "df['Country'].value_counts()"
   ]
  },
  {
   "cell_type": "markdown",
   "id": "3cfd6f3d",
   "metadata": {},
   "source": [
    "- As evident from the data, a predominant number of students hail from India. Given this discernible pattern, we can pragmatically replace the corresponding null values with the category 'India,' ensuring a cohesive representation of the dataset."
   ]
  },
  {
   "cell_type": "code",
   "execution_count": 45,
   "id": "b7a94240",
   "metadata": {},
   "outputs": [],
   "source": [
    "df['Country'].fillna('India', inplace=True)"
   ]
  },
  {
   "cell_type": "markdown",
   "id": "e1ceaf03",
   "metadata": {},
   "source": [
    "How did you hear about X Education: The source from which the customer heard about X Education."
   ]
  },
  {
   "cell_type": "code",
   "execution_count": 46,
   "id": "1dd38cb9",
   "metadata": {},
   "outputs": [
    {
     "data": {
      "text/plain": [
       "array(['Select', 'Word Of Mouth', 'Other', nan, 'Online Search',\n",
       "       'Multiple Sources', 'Advertisements', 'Student of SomeSchool',\n",
       "       'Email', 'Social Media', 'SMS'], dtype=object)"
      ]
     },
     "execution_count": 46,
     "metadata": {},
     "output_type": "execute_result"
    }
   ],
   "source": [
    "df['How did you hear about X Education'].unique()"
   ]
  },
  {
   "cell_type": "code",
   "execution_count": 47,
   "id": "d66d6c8b",
   "metadata": {},
   "outputs": [
    {
     "data": {
      "text/plain": [
       "How did you hear about X Education\n",
       "Select                   5043\n",
       "Online Search             808\n",
       "Word Of Mouth             348\n",
       "Student of SomeSchool     310\n",
       "Other                     186\n",
       "Multiple Sources          152\n",
       "Advertisements             70\n",
       "Social Media               67\n",
       "Email                      26\n",
       "SMS                        23\n",
       "Name: count, dtype: int64"
      ]
     },
     "execution_count": 47,
     "metadata": {},
     "output_type": "execute_result"
    }
   ],
   "source": [
    "df['How did you hear about X Education'].value_counts()"
   ]
  },
  {
   "cell_type": "markdown",
   "id": "218ae384",
   "metadata": {},
   "source": [
    "- However, it's crucial to note that in this context, the option 'Select' indicates that customers have not made a specific selection. It implies that individuals have chosen not to specify their preference rather than actively selecting the option labeled 'Select.'\n",
    "- This nuanced understanding sheds light on the nature of the data, emphasizing that 'Select' reflects instances where customers opted not to choose a particular option"
   ]
  },
  {
   "cell_type": "markdown",
   "id": "730e6db6",
   "metadata": {},
   "source": [
    "- In light of this nuanced understanding, we can pragmatically replace all null values with the category 'Select.' This approach aligns with the interpretation that, in these cases, customers have chosen not to specify a particular option."
   ]
  },
  {
   "cell_type": "code",
   "execution_count": 48,
   "id": "971c1b10",
   "metadata": {},
   "outputs": [],
   "source": [
    "df['How did you hear about X Education'].fillna('Select', inplace=True)"
   ]
  },
  {
   "cell_type": "code",
   "execution_count": 49,
   "id": "ec6086d0",
   "metadata": {},
   "outputs": [
    {
     "data": {
      "text/plain": [
       "array(['Select', 'Business Administration', 'Media and Advertising', nan,\n",
       "       'Supply Chain Management', 'IT Projects Management',\n",
       "       'Finance Management', 'Travel and Tourism',\n",
       "       'Human Resource Management', 'Marketing Management',\n",
       "       'Banking, Investment And Insurance', 'International Business',\n",
       "       'E-COMMERCE', 'Operations Management', 'Retail Management',\n",
       "       'Services Excellence', 'Hospitality Management',\n",
       "       'Rural and Agribusiness', 'Healthcare Management', 'E-Business'],\n",
       "      dtype=object)"
      ]
     },
     "execution_count": 49,
     "metadata": {},
     "output_type": "execute_result"
    }
   ],
   "source": [
    "df['Specialization'].unique()"
   ]
  },
  {
   "cell_type": "code",
   "execution_count": 50,
   "id": "98009e51",
   "metadata": {},
   "outputs": [
    {
     "data": {
      "text/plain": [
       "Specialization\n",
       "Select                               1942\n",
       "Finance Management                    976\n",
       "Human Resource Management             848\n",
       "Marketing Management                  838\n",
       "Operations Management                 503\n",
       "Business Administration               403\n",
       "IT Projects Management                366\n",
       "Supply Chain Management               349\n",
       "Banking, Investment And Insurance     338\n",
       "Travel and Tourism                    203\n",
       "Media and Advertising                 203\n",
       "International Business                178\n",
       "Healthcare Management                 159\n",
       "Hospitality Management                114\n",
       "E-COMMERCE                            112\n",
       "Retail Management                     100\n",
       "Rural and Agribusiness                 73\n",
       "E-Business                             57\n",
       "Services Excellence                    40\n",
       "Name: count, dtype: int64"
      ]
     },
     "execution_count": 50,
     "metadata": {},
     "output_type": "execute_result"
    }
   ],
   "source": [
    "df['Specialization'].value_counts()"
   ]
  },
  {
   "cell_type": "markdown",
   "id": "82eaa058",
   "metadata": {},
   "source": [
    "- Similarly, for the 'Specialization' column, we can adopt a consistent approach by replacing all null values with the category 'Select.' This ensures uniformity in handling missing data, aligning with the interpretation that individuals, in these instances, have opted not to specify a particular option."
   ]
  },
  {
   "cell_type": "code",
   "execution_count": 51,
   "id": "682162b7",
   "metadata": {},
   "outputs": [],
   "source": [
    "df['Specialization'].fillna('Select', inplace=True)"
   ]
  },
  {
   "cell_type": "code",
   "execution_count": 52,
   "id": "4fd290b2",
   "metadata": {},
   "outputs": [
    {
     "data": {
      "text/plain": [
       "array(['Select', 'Mumbai', nan, 'Thane & Outskirts', 'Other Metro Cities',\n",
       "       'Other Cities', 'Other Cities of Maharashtra', 'Tier II Cities'],\n",
       "      dtype=object)"
      ]
     },
     "execution_count": 52,
     "metadata": {},
     "output_type": "execute_result"
    }
   ],
   "source": [
    "df['City'].unique()"
   ]
  },
  {
   "cell_type": "code",
   "execution_count": 53,
   "id": "6557064b",
   "metadata": {},
   "outputs": [
    {
     "data": {
      "text/plain": [
       "City\n",
       "Mumbai                         3222\n",
       "Select                         2249\n",
       "Thane & Outskirts               752\n",
       "Other Cities                    686\n",
       "Other Cities of Maharashtra     457\n",
       "Other Metro Cities              380\n",
       "Tier II Cities                   74\n",
       "Name: count, dtype: int64"
      ]
     },
     "execution_count": 53,
     "metadata": {},
     "output_type": "execute_result"
    }
   ],
   "source": [
    "df['City'].value_counts()"
   ]
  },
  {
   "cell_type": "code",
   "execution_count": 54,
   "id": "cba0e777",
   "metadata": {},
   "outputs": [],
   "source": [
    "df['City'].fillna('Select', inplace=True)"
   ]
  },
  {
   "cell_type": "code",
   "execution_count": 55,
   "id": "60ff5bfd",
   "metadata": {},
   "outputs": [
    {
     "data": {
      "text/plain": [
       "array([ 0.  ,  2.5 ,  2.  ,  1.  ,  4.  ,  8.  ,  2.67, 11.  ,  5.  ,\n",
       "        6.  ,  3.  ,  1.33,  1.5 ,  3.5 ,  7.  ,  2.33, 13.  ,  8.5 ,\n",
       "        5.5 ,  1.67,   nan,  4.5 ,  3.33, 16.  , 12.  ,  1.71,  1.8 ,\n",
       "        6.5 ,  4.33, 14.  ,  3.4 , 10.  ,  1.25,  1.75,  2.63, 15.  ,\n",
       "        2.25,  3.67,  1.43,  9.  ,  2.6 ,  4.75,  1.27,  3.25,  5.33,\n",
       "        2.57,  2.17,  2.75,  2.8 ,  2.2 ,  2.86,  3.91,  1.4 ,  5.67,\n",
       "        3.2 ,  1.38,  2.09,  2.4 , 55.  ,  5.25,  6.71,  3.57,  2.22,\n",
       "        1.83,  3.6 ,  1.2 ,  1.57,  1.56,  5.4 ,  4.25,  1.31,  1.6 ,\n",
       "        2.9 ,  1.23,  1.78,  3.83,  7.5 ,  1.14,  2.71,  1.45,  2.38,\n",
       "        1.86,  2.29,  1.21, 12.33,  3.43,  2.56,  6.33,  1.64,  8.21,\n",
       "        4.4 ,  3.17,  8.33,  1.48,  1.22, 24.  ,  3.75,  6.67,  1.54,\n",
       "        2.13,  2.14,  2.45,  3.29,  4.17,  1.63,  3.38,  1.17, 14.5 ,\n",
       "        3.8 ,  1.19,  3.82,  2.83,  1.93, 11.5 ,  2.08])"
      ]
     },
     "execution_count": 55,
     "metadata": {},
     "output_type": "execute_result"
    }
   ],
   "source": [
    "df['Page Views Per Visit'].unique()"
   ]
  },
  {
   "cell_type": "code",
   "execution_count": 56,
   "id": "04d4f1c2",
   "metadata": {},
   "outputs": [
    {
     "data": {
      "text/plain": [
       "Page Views Per Visit\n",
       "0.00    2189\n",
       "2.00    1795\n",
       "3.00    1196\n",
       "4.00     896\n",
       "1.00     651\n",
       "        ... \n",
       "3.43       1\n",
       "2.56       1\n",
       "6.33       1\n",
       "1.64       1\n",
       "2.08       1\n",
       "Name: count, Length: 114, dtype: int64"
      ]
     },
     "execution_count": 56,
     "metadata": {},
     "output_type": "execute_result"
    }
   ],
   "source": [
    "df['Page Views Per Visit'].value_counts()"
   ]
  },
  {
   "cell_type": "code",
   "execution_count": 57,
   "id": "de24da94",
   "metadata": {},
   "outputs": [],
   "source": [
    "df['Page Views Per Visit'].fillna(0, inplace=True)"
   ]
  },
  {
   "cell_type": "code",
   "execution_count": 58,
   "id": "74b1c033",
   "metadata": {},
   "outputs": [
    {
     "data": {
      "text/plain": [
       "array([ 0.  ,  2.5 ,  2.  ,  1.  ,  4.  ,  8.  ,  2.67, 11.  ,  5.  ,\n",
       "        6.  ,  3.  ,  1.33,  1.5 ,  3.5 ,  7.  ,  2.33, 13.  ,  8.5 ,\n",
       "        5.5 ,  1.67,  4.5 ,  3.33, 16.  , 12.  ,  1.71,  1.8 ,  6.5 ,\n",
       "        4.33, 14.  ,  3.4 , 10.  ,  1.25,  1.75,  2.63, 15.  ,  2.25,\n",
       "        3.67,  1.43,  9.  ,  2.6 ,  4.75,  1.27,  3.25,  5.33,  2.57,\n",
       "        2.17,  2.75,  2.8 ,  2.2 ,  2.86,  3.91,  1.4 ,  5.67,  3.2 ,\n",
       "        1.38,  2.09,  2.4 , 55.  ,  5.25,  6.71,  3.57,  2.22,  1.83,\n",
       "        3.6 ,  1.2 ,  1.57,  1.56,  5.4 ,  4.25,  1.31,  1.6 ,  2.9 ,\n",
       "        1.23,  1.78,  3.83,  7.5 ,  1.14,  2.71,  1.45,  2.38,  1.86,\n",
       "        2.29,  1.21, 12.33,  3.43,  2.56,  6.33,  1.64,  8.21,  4.4 ,\n",
       "        3.17,  8.33,  1.48,  1.22, 24.  ,  3.75,  6.67,  1.54,  2.13,\n",
       "        2.14,  2.45,  3.29,  4.17,  1.63,  3.38,  1.17, 14.5 ,  3.8 ,\n",
       "        1.19,  3.82,  2.83,  1.93, 11.5 ,  2.08])"
      ]
     },
     "execution_count": 58,
     "metadata": {},
     "output_type": "execute_result"
    }
   ],
   "source": [
    "df['Page Views Per Visit'].unique()"
   ]
  },
  {
   "cell_type": "code",
   "execution_count": 59,
   "id": "9a46489a",
   "metadata": {},
   "outputs": [
    {
     "data": {
      "text/plain": [
       "array([  0.,   5.,   2.,   1.,   4.,   8.,  11.,   6.,   3.,   7.,  13.,\n",
       "        17.,  nan,   9.,  12.,  10.,  16.,  14.,  21.,  15.,  22.,  19.,\n",
       "        18.,  20.,  43.,  30.,  23.,  55., 141.,  25.,  27.,  29.,  24.,\n",
       "        28.,  26.,  74.,  41.,  54., 115., 251.,  32.,  42.])"
      ]
     },
     "execution_count": 59,
     "metadata": {},
     "output_type": "execute_result"
    }
   ],
   "source": [
    "df['TotalVisits'].unique()"
   ]
  },
  {
   "cell_type": "code",
   "execution_count": 60,
   "id": "563d1370",
   "metadata": {},
   "outputs": [
    {
     "data": {
      "text/plain": [
       "TotalVisits\n",
       "0.0      2189\n",
       "2.0      1680\n",
       "3.0      1306\n",
       "4.0      1120\n",
       "5.0       783\n",
       "6.0       466\n",
       "1.0       395\n",
       "7.0       309\n",
       "8.0       224\n",
       "9.0       164\n",
       "10.0      114\n",
       "11.0       86\n",
       "13.0       48\n",
       "12.0       45\n",
       "14.0       36\n",
       "16.0       21\n",
       "15.0       18\n",
       "17.0       16\n",
       "18.0       15\n",
       "20.0       12\n",
       "19.0        9\n",
       "21.0        6\n",
       "23.0        6\n",
       "24.0        5\n",
       "25.0        5\n",
       "27.0        5\n",
       "22.0        3\n",
       "29.0        2\n",
       "28.0        2\n",
       "26.0        2\n",
       "141.0       1\n",
       "55.0        1\n",
       "30.0        1\n",
       "43.0        1\n",
       "74.0        1\n",
       "41.0        1\n",
       "54.0        1\n",
       "115.0       1\n",
       "251.0       1\n",
       "32.0        1\n",
       "42.0        1\n",
       "Name: count, dtype: int64"
      ]
     },
     "execution_count": 60,
     "metadata": {},
     "output_type": "execute_result"
    }
   ],
   "source": [
    "df['TotalVisits'].value_counts()"
   ]
  },
  {
   "cell_type": "code",
   "execution_count": 61,
   "id": "7bb8b3af",
   "metadata": {},
   "outputs": [],
   "source": [
    "df['TotalVisits'].fillna(0, inplace=True)"
   ]
  },
  {
   "cell_type": "code",
   "execution_count": 62,
   "id": "73231ca5",
   "metadata": {},
   "outputs": [
    {
     "data": {
      "text/plain": [
       "array(['Page Visited on Website', 'Email Opened', 'Unreachable',\n",
       "       'Converted to Lead', 'Olark Chat Conversation', 'Email Bounced',\n",
       "       'Email Link Clicked', 'Form Submitted on Website', 'Unsubscribed',\n",
       "       'Had a Phone Conversation', 'View in browser link Clicked', nan,\n",
       "       'Approached upfront', 'SMS Sent', 'Visited Booth in Tradeshow',\n",
       "       'Resubscribed to emails', 'Email Received', 'Email Marked Spam'],\n",
       "      dtype=object)"
      ]
     },
     "execution_count": 62,
     "metadata": {},
     "output_type": "execute_result"
    }
   ],
   "source": [
    "df['Last Activity'].unique()"
   ]
  },
  {
   "cell_type": "code",
   "execution_count": 63,
   "id": "b517e1cf",
   "metadata": {},
   "outputs": [
    {
     "data": {
      "text/plain": [
       "Last Activity\n",
       "Email Opened                    3437\n",
       "SMS Sent                        2745\n",
       "Olark Chat Conversation          973\n",
       "Page Visited on Website          640\n",
       "Converted to Lead                428\n",
       "Email Bounced                    326\n",
       "Email Link Clicked               267\n",
       "Form Submitted on Website        116\n",
       "Unreachable                       93\n",
       "Unsubscribed                      61\n",
       "Had a Phone Conversation          30\n",
       "Approached upfront                 9\n",
       "View in browser link Clicked       6\n",
       "Email Received                     2\n",
       "Email Marked Spam                  2\n",
       "Visited Booth in Tradeshow         1\n",
       "Resubscribed to emails             1\n",
       "Name: count, dtype: int64"
      ]
     },
     "execution_count": 63,
     "metadata": {},
     "output_type": "execute_result"
    }
   ],
   "source": [
    "df['Last Activity'].value_counts()"
   ]
  },
  {
   "cell_type": "markdown",
   "id": "c280a053",
   "metadata": {},
   "source": [
    "- To enhance our chances of successful outreach, we opt to fill the null values in the specified column with the category 'Unreachable.' \n",
    "- This strategic decision allows us to take another opportunity and attempt to connect with customers. \n",
    "- By maintaining the original 'Unreachable' designation, we ensure that our prediction models remain unaffected by potential biases introduced through alternative categorizations."
   ]
  },
  {
   "cell_type": "code",
   "execution_count": 64,
   "id": "791081ae",
   "metadata": {},
   "outputs": [],
   "source": [
    "df['Last Activity'].fillna('Unreachable', inplace=True)"
   ]
  },
  {
   "cell_type": "code",
   "execution_count": 65,
   "id": "0b4a604e",
   "metadata": {},
   "outputs": [
    {
     "data": {
      "text/plain": [
       "array(['Olark Chat', 'Organic Search', 'Direct Traffic', 'Google',\n",
       "       'Referral Sites', 'Welingak Website', 'Reference', 'google',\n",
       "       'Facebook', nan, 'blog', 'Pay per Click Ads', 'bing',\n",
       "       'Social Media', 'WeLearn', 'Click2call', 'Live Chat',\n",
       "       'welearnblog_Home', 'youtubechannel', 'testone', 'Press_Release',\n",
       "       'NC_EDM'], dtype=object)"
      ]
     },
     "execution_count": 65,
     "metadata": {},
     "output_type": "execute_result"
    }
   ],
   "source": [
    "df['Lead Source'].unique()"
   ]
  },
  {
   "cell_type": "code",
   "execution_count": 66,
   "id": "e97b3c9e",
   "metadata": {},
   "outputs": [
    {
     "data": {
      "text/plain": [
       "Lead Source\n",
       "Google               2868\n",
       "Direct Traffic       2543\n",
       "Olark Chat           1755\n",
       "Organic Search       1154\n",
       "Reference             534\n",
       "Welingak Website      142\n",
       "Referral Sites        125\n",
       "Facebook               55\n",
       "bing                    6\n",
       "google                  5\n",
       "Click2call              4\n",
       "Press_Release           2\n",
       "Social Media            2\n",
       "Live Chat               2\n",
       "youtubechannel          1\n",
       "testone                 1\n",
       "Pay per Click Ads       1\n",
       "welearnblog_Home        1\n",
       "WeLearn                 1\n",
       "blog                    1\n",
       "NC_EDM                  1\n",
       "Name: count, dtype: int64"
      ]
     },
     "execution_count": 66,
     "metadata": {},
     "output_type": "execute_result"
    }
   ],
   "source": [
    "df['Lead Source'].value_counts() # there are only 36(0.39%) of null values "
   ]
  },
  {
   "cell_type": "markdown",
   "id": "46d5a412",
   "metadata": {},
   "source": [
    "- Given that there are only 36 (0.39%) null values in this categorical column, it's prudent to fill these gaps with the mode value. This approach ensures a balanced representation in the dataset, leveraging the most frequent category to maintain consistency and minimize potential impacts on subsequent analyses."
   ]
  },
  {
   "cell_type": "code",
   "execution_count": 67,
   "id": "72bcdc99",
   "metadata": {},
   "outputs": [],
   "source": [
    "df['Lead Source'].fillna(df['Lead Source'].mode()[0], inplace=True)"
   ]
  },
  {
   "cell_type": "code",
   "execution_count": 68,
   "id": "1270e4a6",
   "metadata": {},
   "outputs": [
    {
     "data": {
      "text/plain": [
       "Prospect ID                                      0\n",
       "Lead Number                                      0\n",
       "Lead Origin                                      0\n",
       "Lead Source                                      0\n",
       "Do Not Email                                     0\n",
       "Do Not Call                                      0\n",
       "Converted                                        0\n",
       "TotalVisits                                      0\n",
       "Total Time Spent on Website                      0\n",
       "Page Views Per Visit                             0\n",
       "Last Activity                                    0\n",
       "Country                                          0\n",
       "Specialization                                   0\n",
       "How did you hear about X Education               0\n",
       "What is your current occupation                  0\n",
       "What matters most to you in choosing a course    0\n",
       "Search                                           0\n",
       "Magazine                                         0\n",
       "Newspaper Article                                0\n",
       "X Education Forums                               0\n",
       "Newspaper                                        0\n",
       "Digital Advertisement                            0\n",
       "Through Recommendations                          0\n",
       "Receive More Updates About Our Courses           0\n",
       "Tags                                             0\n",
       "Lead Quality                                     0\n",
       "Update me on Supply Chain Content                0\n",
       "Get updates on DM Content                        0\n",
       "Lead Profile                                     0\n",
       "City                                             0\n",
       "Asymmetrique Activity Index                      0\n",
       "Asymmetrique Profile Index                       0\n",
       "Asymmetrique Activity Score                      0\n",
       "Asymmetrique Profile Score                       0\n",
       "I agree to pay the amount through cheque         0\n",
       "A free copy of Mastering The Interview           0\n",
       "Last Notable Activity                            0\n",
       "dtype: int64"
      ]
     },
     "execution_count": 68,
     "metadata": {},
     "output_type": "execute_result"
    }
   ],
   "source": [
    "df.isnull().sum()"
   ]
  },
  {
   "cell_type": "code",
   "execution_count": null,
   "id": "262c5076",
   "metadata": {},
   "outputs": [],
   "source": []
  }
 ],
 "metadata": {
  "kernelspec": {
   "display_name": "Python 3 (ipykernel)",
   "language": "python",
   "name": "python3"
  },
  "language_info": {
   "codemirror_mode": {
    "name": "ipython",
    "version": 3
   },
   "file_extension": ".py",
   "mimetype": "text/x-python",
   "name": "python",
   "nbconvert_exporter": "python",
   "pygments_lexer": "ipython3",
   "version": "3.11.5"
  }
 },
 "nbformat": 4,
 "nbformat_minor": 5
}
